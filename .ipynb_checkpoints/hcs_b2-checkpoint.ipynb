{
 "cells": [
  {
   "cell_type": "code",
   "execution_count": null,
   "metadata": {},
   "outputs": [],
   "source": [
    "\n",
    "#importing necessary libraries\n",
    "import urllib\n",
    "import time\n",
    "import numpy as np\n",
    "import pandas as pd\n",
    "from flask import Flask, request\n",
    "import csv, os, json\n",
    "\n",
    "# Setting up current directory:\n",
    "CURRENT_DIRECTORY = os.getcwd()\n",
    "\n",
    "#Initialize flask app\n",
    "app = Flask(__name__)\n",
    "\n",
    "\n",
    "@app.route(\"/\", methods=['GET'])\n",
    "def get_names(): \n",
    "    #team = np.array([np.zeros(5)])\n",
    "    stats = pd.read_csv(CURRENT_DIRECTORY +'/stats.csv')\n",
    "    \n",
    "    #set up lists to store data,teams, wins,losses, goals, and season\n",
    "    teams, wins,losses, goals, season = [], [], [], [], []\n",
    "    \n",
    "    #make an array to store a team information\n",
    "    teamaa=[[],[],[],[]]\n",
    "    \n",
    "    #add stats to their respective lists\n",
    "    for i in stats['wins']:\n",
    "        wins.append(i)\n",
    "    for i in stats['team']:\n",
    "        teams.append(i)\n",
    "    for i in stats['losses']:\n",
    "        losses.append(i)\n",
    "    for i in stats['goals']:\n",
    "        goals.append(i)\n",
    "    for i in stats['season']:\n",
    "        season.append(i)\n",
    "    \n",
    "    team_name = input(\"Team Name: \")\n",
    "    for i in range(len(teams)):\n",
    "        if name == teams[i]:\n",
    "            teamaa[0].append(season[i])\n",
    "            teamaa[1].append(wins[i])\n",
    "            teamaa[2].append(losses[i])\n",
    "            teamaa[3].append(goals[i])\n",
    "    \n",
    "    #options for team stats or comparisons\n",
    "    \n",
    "    return (teamaa)\n",
    "app.run()\n",
    "\n",
    "\n"
   ]
  },
  {
   "cell_type": "code",
   "execution_count": null,
   "metadata": {},
   "outputs": [],
   "source": []
  },
  {
   "cell_type": "code",
   "execution_count": null,
   "metadata": {},
   "outputs": [],
   "source": []
  }
 ],
 "metadata": {
  "kernelspec": {
   "display_name": "Python 3",
   "language": "python",
   "name": "python3"
  },
  "language_info": {
   "codemirror_mode": {
    "name": "ipython",
    "version": 3
   },
   "file_extension": ".py",
   "mimetype": "text/x-python",
   "name": "python",
   "nbconvert_exporter": "python",
   "pygments_lexer": "ipython3",
   "version": "3.7.3"
  }
 },
 "nbformat": 4,
 "nbformat_minor": 2
}
