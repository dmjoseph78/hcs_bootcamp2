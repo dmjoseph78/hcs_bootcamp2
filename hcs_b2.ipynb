{
 "cells": [
  {
   "cell_type": "code",
   "execution_count": null,
   "metadata": {},
   "outputs": [
    {
     "name": "stdout",
     "output_type": "stream",
     "text": [
      " * Serving Flask app \"__main__\" (lazy loading)\n",
      " * Environment: production\n",
      "   WARNING: This is a development server. Do not use it in a production deployment.\n",
      "   Use a production WSGI server instead.\n",
      " * Debug mode: off\n"
     ]
    },
    {
     "name": "stderr",
     "output_type": "stream",
     "text": [
      " * Running on http://127.0.0.1:5000/ (Press CTRL+C to quit)\n"
     ]
    },
    {
     "name": "stdout",
     "output_type": "stream",
     "text": [
      "Team Name: Arsenal\n"
     ]
    },
    {
     "name": "stderr",
     "output_type": "stream",
     "text": [
      "127.0.0.1 - - [30/Oct/2019 19:44:03] \"GET / HTTP/1.1\" 200 -\n",
      "127.0.0.1 - - [30/Oct/2019 19:44:04] \"GET /favicon.ico HTTP/1.1\" 404 -\n"
     ]
    }
   ],
   "source": [
    "\n",
    "#importing necessary libraries\n",
    "import urllib\n",
    "import time\n",
    "import numpy as np\n",
    "import pandas as pd\n",
    "from flask import Flask, request\n",
    "import csv, os, json\n",
    "\n",
    "# Setting up current directory:\n",
    "CURRENT_DIRECTORY = os.getcwd()\n",
    "\n",
    "#Initialize flask app\n",
    "app = Flask(__name__)\n",
    "\n",
    "\n",
    "@app.route(\"/\", methods=['GET'])\n",
    "\n",
    "\n",
    "def get_names(): \n",
    "    stats = pd.read_csv(CURRENT_DIRECTORY +'/stats.csv')\n",
    "    \n",
    "    #set up lists to store data,teams, wins,losses, goals, and season\n",
    "    teams, wins,losses, goals,draws, season = [], [], [], [], [],[]\n",
    "    \n",
    "    #a list to store team information\n",
    "    teamaa=[[],[],[],[]]\n",
    "    \n",
    "    #add stats from csv to their respective lists\n",
    "    for i in stats['wins']:\n",
    "        wins.append(i)\n",
    "    for i in stats['team']:\n",
    "        teams.append(i)\n",
    "    for i in stats['losses']:\n",
    "        losses.append(i)\n",
    "    for i in stats['goals']:\n",
    "        goals.append(i)\n",
    "    for i in stats['season']:\n",
    "        season.append(i)\n",
    "    \n",
    "    #prompt user for team name\n",
    "    team_name = input(\"Team Name: \")\n",
    "\n",
    "    #add team starts to the list of team information\n",
    "    for i in range (len(teams)):\n",
    "        if team_name == teams[i]:\n",
    "            teamaa[0].append(season[i])\n",
    "            teamaa[1].append(wins[i])\n",
    "            teamaa[2].append(losses[i])\n",
    "            teamaa[3].append(goals[i])    \n",
    "\n",
    "    #define win, loss and goal for the purpose of addition later\n",
    "    win, loss, goal = 0, 0, 0\n",
    "\n",
    "    #sum up team stats from team information list\n",
    "    if len(teamaa[1]) == 0:\n",
    "        return team_name + \"Team not found, make sure the premier league team is correctly spelt.\"\n",
    "    else:\n",
    "        for i in range(len(teamaa)):\n",
    "            win += teamaa[1][i]\n",
    "            loss += teamaa[2][i]\n",
    "            goal += teamaa[3][i]\n",
    "    \n",
    "    #calculate the chances of winning and losing\n",
    "    win_rate = int(round(win/(win+loss)* 100))\n",
    "    loss_rate = int(round(loss/(win + loss) * 100))\n",
    "     \n",
    "    #make string for display and return it as the function result\n",
    "    team_prob = team_prob = team_name + \"'s chance of winning is \" + str(win_rate) + \"% and chance of losing is \" + str(loss_rate) + \"%!\"\n",
    "    return (team_prob)\n",
    "app.run()\n",
    "\n",
    "\n",
    "#print(get_names())\n",
    "\n"
   ]
  },
  {
   "cell_type": "code",
   "execution_count": null,
   "metadata": {},
   "outputs": [],
   "source": []
  }
 ],
 "metadata": {
  "kernelspec": {
   "display_name": "Python 3",
   "language": "python",
   "name": "python3"
  },
  "language_info": {
   "codemirror_mode": {
    "name": "ipython",
    "version": 3
   },
   "file_extension": ".py",
   "mimetype": "text/x-python",
   "name": "python",
   "nbconvert_exporter": "python",
   "pygments_lexer": "ipython3",
   "version": "3.7.4"
  }
 },
 "nbformat": 4,
 "nbformat_minor": 2
}
