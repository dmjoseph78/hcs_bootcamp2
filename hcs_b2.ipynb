{
 "cells": [
  {
   "cell_type": "code",
   "execution_count": 37,
   "metadata": {},
   "outputs": [
    {
     "name": "stdout",
     "output_type": "stream",
     "text": [
      "['team', 'wins', 'losses', 'goals', 'total_yel_card', 'total_red_card', 'total_scoring_att', 'ontarget_scoring_att', 'hit_woodwork', 'att_hd_goal', 'att_pen_goal', 'att_freekick_goal', 'att_ibox_goal', 'att_obox_goal', 'goal_fastbreak', 'total_offside', 'clean_sheet', 'goals_conceded', 'saves', 'outfielder_block', 'interception', 'total_tackle', 'last_man_tackle', 'total_clearance', 'head_clearance', 'own_goals', 'penalty_conceded', 'pen_goals_conceded', 'total_pass', 'total_through_ball', 'total_long_balls', 'backward_pass', 'total_cross', 'corner_taken', 'touches', 'big_chance_missed', 'clearance_off_line', 'dispossessed', 'penalty_save', 'total_high_claim', 'punches', 'season']\n"
     ]
    }
   ],
   "source": [
    "\n",
    "#importing necessary libraries\n",
    "import urllib\n",
    "import time\n",
    "import numpy as np\n",
    "import pandas as pd\n",
    "from flask import Flask, request\n",
    "import csv, os, json\n",
    "\n",
    "# Setting up current directory:\n",
    "CURRENT_DIRECTORY = os.getcwd()\n",
    "\n",
    "#Initialize flask app\n",
    "app = Flask(__name__)\n",
    "\n",
    "\n",
    "@app.route(\"/\", methods=['GET'])\n",
    "def get_names(): \n",
    "    #team = np.array([np.zeros(5)])\n",
    "    stats = pd.read_csv(CURRENT_DIRECTORY +'/stats.csv')\n",
    "    results = []\n",
    "    for row in stats: # each row is a list\n",
    "        results.append(row)\n",
    "    return (results)\n",
    "print(get_names())\n"
   ]
  },
  {
   "cell_type": "code",
   "execution_count": null,
   "metadata": {},
   "outputs": [],
   "source": []
  }
 ],
 "metadata": {
  "kernelspec": {
   "display_name": "Python 3",
   "language": "python",
   "name": "python3"
  }
 },
 "nbformat": 4,
 "nbformat_minor": 2
}
